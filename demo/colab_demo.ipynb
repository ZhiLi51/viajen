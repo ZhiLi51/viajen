{
 "cells": [
  {
   "cell_type": "markdown",
   "metadata": {
    "id": "bLAP0o-FqSyQ"
   },
   "source": [
    "# 1. Setup"
   ]
  },
  {
   "cell_type": "markdown",
   "metadata": {
    "id": "pZqFL8gSqpUV"
   },
   "source": [
    "## 1.1. Install [viajen](b)\n",
    "**v**iew **i**mages as **a**nimation in **j**upyter and **e**quivalent **n**otebooks "
   ]
  },
  {
   "cell_type": "code",
   "execution_count": null,
   "metadata": {
    "colab": {
     "base_uri": "https://localhost:8080/"
    },
    "id": "vcrxudjPqg4a",
    "outputId": "3122156c-b948-4aa6-cde6-9ee6511d010c"
   },
   "outputs": [],
   "source": [
    "!pip install viajen"
   ]
  },
  {
   "cell_type": "markdown",
   "metadata": {
    "id": "gTLMHEFBqSyZ"
   },
   "source": [
    "## 1.2. Imports"
   ]
  },
  {
   "cell_type": "code",
   "execution_count": null,
   "metadata": {
    "id": "6vZY3v_VqSyb"
   },
   "outputs": [],
   "source": [
    "# Standard lib imports\n",
    "from pathlib import Path\n",
    "\n",
    "# Thirdy part imports\n",
    "import cv2\n",
    "import numpy as np\n",
    "from PIL import Image\n",
    "\n",
    "# Project imports\n",
    "from viajen import animate\n",
    "from viajen.utils import move_dimensions"
   ]
  },
  {
   "cell_type": "markdown",
   "metadata": {
    "id": "wAYfSbx_rKU3"
   },
   "source": [
    "## 1.3. Download demonstration data (by cloning repo)"
   ]
  },
  {
   "cell_type": "code",
   "execution_count": null,
   "metadata": {
    "colab": {
     "base_uri": "https://localhost:8080/"
    },
    "id": "J-LIGhvfrK1q",
    "outputId": "303b5235-ecc0-40f2-e697-cbe1b4b782da"
   },
   "outputs": [],
   "source": [
    "!git clone https://github.com/brunomsantiago/viajen"
   ]
  },
  {
   "cell_type": "markdown",
   "metadata": {
    "id": "uGHxkwIlqSyc"
   },
   "source": [
    "## 1.4. Loading data (a folder with png files of indiviudal frames) and transforming it other types of data accepted by the library"
   ]
  },
  {
   "cell_type": "code",
   "execution_count": null,
   "metadata": {
    "id": "brKK7ENDqSyd"
   },
   "outputs": [],
   "source": [
    "my_folder_str = '/content/viajen/demo/images'\n",
    "my_folder_path_object = Path(my_folder_str)\n",
    "\n",
    "my_list_of_file_path = sorted(my_folder_path_object.glob('*.png'))\n",
    "my_list_of_pillow_images = [Image.open(file) for file in my_list_of_file_path]\n",
    "\n",
    "my_list_of_file_str = [file.as_posix() for file in my_list_of_file_path]\n",
    "my_list_of_opencv_arrays = [cv2.imread(file) for file in my_list_of_file_str]\n",
    "\n",
    "my_4D_thwc_array = np.array(my_list_of_opencv_arrays)\n",
    "my_4D_chwt_array  = move_dimensions(my_4D_thwc_array, 'CHWT', 'THWC')"
   ]
  },
  {
   "cell_type": "markdown",
   "metadata": {
    "id": "i1jJtuf5qSye"
   },
   "source": [
    "# 2. Testing functions"
   ]
  },
  {
   "cell_type": "markdown",
   "metadata": {
    "id": "X8-cHm9CqSyf"
   },
   "source": [
    "## 2.1. animate.folder()"
   ]
  },
  {
   "cell_type": "markdown",
   "metadata": {
    "id": "bWiE8snlqSyg"
   },
   "source": [
    "#### From a pathlib object, using defaults..."
   ]
  },
  {
   "cell_type": "code",
   "execution_count": null,
   "metadata": {
    "colab": {
     "base_uri": "https://localhost:8080/",
     "height": 235
    },
    "id": "Fe6DzcpOqSyg",
    "outputId": "df18151c-7ca7-48a9-feb2-0cbf2ad5b32d",
    "scrolled": true
   },
   "outputs": [],
   "source": [
    "print(my_folder_path_object.__repr__())\n",
    "\n",
    "animate.folder(my_folder_path_object)"
   ]
  },
  {
   "cell_type": "markdown",
   "metadata": {
    "id": "fnITMyUKqSyk"
   },
   "source": [
    "#### ... and with smaller size (max_height) and shorter length (max_frames)"
   ]
  },
  {
   "cell_type": "code",
   "execution_count": null,
   "metadata": {
    "colab": {
     "base_uri": "https://localhost:8080/",
     "height": 135
    },
    "id": "ivjEGolgqSyl",
    "outputId": "df3a9113-72d7-4fa0-f775-21cf9815e811"
   },
   "outputs": [],
   "source": [
    "print(my_folder_path_object.__repr__())\n",
    "\n",
    "animate.folder(my_folder_path_object, max_frames=8, max_height=100)"
   ]
  },
  {
   "cell_type": "markdown",
   "metadata": {
    "id": "jSZurptmqSym"
   },
   "source": [
    "#### From a string"
   ]
  },
  {
   "cell_type": "code",
   "execution_count": null,
   "metadata": {
    "colab": {
     "base_uri": "https://localhost:8080/",
     "height": 135
    },
    "id": "Jd9YFJpIqSyn",
    "outputId": "0141a5d4-1d24-48d0-9116-b31e8e971ecb"
   },
   "outputs": [],
   "source": [
    "# From a string\n",
    "print(f'{type(my_folder_str)} {my_folder_str}')\n",
    "\n",
    "animate.folder(my_folder_str, max_height=100)"
   ]
  },
  {
   "cell_type": "markdown",
   "metadata": {
    "id": "vKVCMJa5qSyo"
   },
   "source": [
    "## 2.2. animate.file_list()"
   ]
  },
  {
   "cell_type": "markdown",
   "metadata": {
    "id": "xeZSpMhgqSyp"
   },
   "source": [
    "#### From a list of pathlib objects"
   ]
  },
  {
   "cell_type": "code",
   "execution_count": null,
   "metadata": {
    "colab": {
     "base_uri": "https://localhost:8080/",
     "height": 154
    },
    "id": "LzZYO9a6qSyp",
    "outputId": "1ce9f106-ae7b-4caf-f170-6e89b4f587eb",
    "scrolled": true
   },
   "outputs": [],
   "source": [
    "print(f'{type(my_list_of_file_path)} with {len(my_list_of_file_path)} elements')\n",
    "print(f'First element: {my_list_of_file_path[0].__repr__()}')\n",
    "\n",
    "animate.file_list(my_list_of_file_path, max_height=100)"
   ]
  },
  {
   "cell_type": "markdown",
   "metadata": {
    "id": "7smnIIt7qSyq"
   },
   "source": [
    "#### From a a list of strings"
   ]
  },
  {
   "cell_type": "code",
   "execution_count": null,
   "metadata": {
    "colab": {
     "base_uri": "https://localhost:8080/",
     "height": 154
    },
    "id": "tGJSzOVhqSyr",
    "outputId": "0eacfda3-30a8-4897-8497-02cb85107484",
    "scrolled": false
   },
   "outputs": [],
   "source": [
    "print(f'{type(my_list_of_file_str)} with {len(my_list_of_file_str)} elements')\n",
    "print(f'First element: {type(my_list_of_file_str[0])} {my_list_of_file_str[0]}')\n",
    "\n",
    "animate.file_list(my_list_of_file_str, max_height=100)"
   ]
  },
  {
   "cell_type": "markdown",
   "metadata": {
    "id": "4-6-_ydFqSyr"
   },
   "source": [
    "## 2.3. animate.pillow_list()"
   ]
  },
  {
   "cell_type": "markdown",
   "metadata": {
    "id": "1W14Q7THqSys"
   },
   "source": [
    "#### From a a list of pillow images"
   ]
  },
  {
   "cell_type": "code",
   "execution_count": null,
   "metadata": {
    "colab": {
     "base_uri": "https://localhost:8080/",
     "height": 154
    },
    "id": "wrA8saznqSys",
    "outputId": "b4b5277e-cf2d-46af-8af8-0327043125df",
    "scrolled": true
   },
   "outputs": [],
   "source": [
    "print(f'{type(my_list_of_pillow_images)} with {len(my_list_of_pillow_images)} elements')\n",
    "print(f'First element: {str(my_list_of_pillow_images[0])}')\n",
    "\n",
    "animate.pillow_list(my_list_of_pillow_images, max_height=100)"
   ]
  },
  {
   "cell_type": "markdown",
   "metadata": {
    "id": "eH_sI163qSyt"
   },
   "source": [
    "## 2.4. animate.array_list()"
   ]
  },
  {
   "cell_type": "markdown",
   "metadata": {
    "id": "p4xchaBGqSyt"
   },
   "source": [
    "#### From a list of BGR (Blue, Green, Red) arrays created by opencv, without setting the BGR flag..."
   ]
  },
  {
   "cell_type": "code",
   "execution_count": null,
   "metadata": {
    "colab": {
     "base_uri": "https://localhost:8080/",
     "height": 154
    },
    "id": "9Y0H0Ik2qSyt",
    "outputId": "adae6720-2b20-401c-a482-0c54c5e33481"
   },
   "outputs": [],
   "source": [
    "print(f'{type(my_list_of_opencv_arrays)} with {len(my_list_of_opencv_arrays)} elements')\n",
    "print(f'First element: {type(my_list_of_opencv_arrays[0])} Shape {my_list_of_opencv_arrays[0].shape}')\n",
    "\n",
    "animate.array_list(my_list_of_opencv_arrays, max_height=100)"
   ]
  },
  {
   "cell_type": "markdown",
   "metadata": {
    "id": "Tzcwv6_4qSyu"
   },
   "source": [
    "#### ... and setting the BGR flag"
   ]
  },
  {
   "cell_type": "code",
   "execution_count": null,
   "metadata": {
    "colab": {
     "base_uri": "https://localhost:8080/",
     "height": 154
    },
    "id": "SFMLcvGhqSyu",
    "outputId": "45fcee35-546c-49fe-b14d-d3ec3f04d549"
   },
   "outputs": [],
   "source": [
    "print(f'{type(my_list_of_opencv_arrays)} with {len(my_list_of_opencv_arrays)} elements')\n",
    "print(f'First element: {type(my_list_of_opencv_arrays[0])} Shape {my_list_of_opencv_arrays[0].shape}')\n",
    "\n",
    "animate.array_list(my_list_of_opencv_arrays, BGR=True, max_height=100)"
   ]
  },
  {
   "cell_type": "markdown",
   "metadata": {
    "id": "2oKtimrVqSyv"
   },
   "source": [
    "## 2.5. animate.array_4d()"
   ]
  },
  {
   "cell_type": "markdown",
   "metadata": {
    "id": "n9B9Wv2gqSyv"
   },
   "source": [
    "#### From a list of THWC (Time, Height, Width, Color channel) 4D array created by stacking opencv frames, without setting the BGR flag..."
   ]
  },
  {
   "cell_type": "code",
   "execution_count": null,
   "metadata": {
    "colab": {
     "base_uri": "https://localhost:8080/",
     "height": 135
    },
    "id": "wy50QDpyqSyw",
    "outputId": "44072dcc-333f-4258-8a7b-24b7d00cabdc"
   },
   "outputs": [],
   "source": [
    "print(f'{type(my_4D_thwc_array)} Shape {my_4D_thwc_array.shape}')\n",
    "\n",
    "animate.array_4d(my_4D_thwc_array, max_height=100)"
   ]
  },
  {
   "cell_type": "markdown",
   "metadata": {
    "id": "kzMY6qStqSyw"
   },
   "source": [
    "#### ... and setting the BGR flag"
   ]
  },
  {
   "cell_type": "code",
   "execution_count": null,
   "metadata": {
    "colab": {
     "background_save": true,
     "base_uri": "https://localhost:8080/",
     "height": 135
    },
    "id": "z28DGuMzqSyx",
    "outputId": "53c6272c-a38a-4ab1-d958-035bbcf7e040"
   },
   "outputs": [],
   "source": [
    "print(f'{type(my_4D_thwc_array)} Shape {my_4D_thwc_array.shape}')\n",
    "\n",
    "animate.array_4d(my_4D_thwc_array, BGR=True, max_height=100)"
   ]
  },
  {
   "cell_type": "markdown",
   "metadata": {
    "id": "eNH_0FL5qSyx"
   },
   "source": [
    "#### From a list of CHWT (Color channel, Height, Width, Time) 4D array created by stacking opencv frames, setting the BGR flag"
   ]
  },
  {
   "cell_type": "code",
   "execution_count": null,
   "metadata": {
    "colab": {
     "background_save": true,
     "base_uri": "https://localhost:8080/",
     "height": 135
    },
    "id": "sdPcae9PqSyy",
    "outputId": "211bc168-c233-4e7a-c11b-6ee6983999c2"
   },
   "outputs": [],
   "source": [
    "print(f'{type(my_4D_chwt_array)} Shape {my_4D_chwt_array.shape}')\n",
    "\n",
    "animate.array_4d(my_4D_chwt_array, array4d_dims='CHWT', BGR=True, max_height=100)"
   ]
  }
 ],
 "metadata": {
  "colab": {
   "collapsed_sections": [],
   "name": "colab_demo.ipynb",
   "provenance": []
  },
  "kernelspec": {
   "display_name": "Python 3",
   "language": "python",
   "name": "python3"
  },
  "language_info": {
   "codemirror_mode": {
    "name": "ipython",
    "version": 3
   },
   "file_extension": ".py",
   "mimetype": "text/x-python",
   "name": "python",
   "nbconvert_exporter": "python",
   "pygments_lexer": "ipython3",
   "version": "3.8.5"
  }
 },
 "nbformat": 4,
 "nbformat_minor": 1
}
